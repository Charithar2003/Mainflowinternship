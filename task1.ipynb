{
 "cells": [
  {
   "cell_type": "code",
   "execution_count": 45,
   "id": "2870b991",
   "metadata": {},
   "outputs": [
    {
     "name": "stdout",
     "output_type": "stream",
     "text": [
      "list :  [1, 'a', 1234, 'Apple', '*', 782.21, -87]\n",
      "Append 10:  [1, 'a', 1234, 'Apple', '*', 782.21, -87, 10]\n",
      "extend :  [1, 'a', 1234, 'Apple', '*', 782.21, -87, 10, 23, 'abc']\n"
     ]
    },
    {
     "data": {
      "text/plain": [
       "1"
      ]
     },
     "execution_count": 45,
     "metadata": {},
     "output_type": "execute_result"
    }
   ],
   "source": [
    "#list and operations on lists\n",
    "\n",
    "l = [1,\"a\",1234,\"Apple\",\"*\",782.21,-87]\n",
    "print(\"list : \",l)\n",
    "l.append(10)\n",
    "print(\"Append 10: \",l)\n",
    "l.extend([23,\"abc\"])\n",
    "print(\"extend : \",l)\n",
    "x = l.pop(3)\n",
    "l.index(\"a\")"
   ]
  },
  {
   "cell_type": "code",
   "execution_count": 43,
   "id": "515ad401",
   "metadata": {},
   "outputs": [
    {
     "name": "stdout",
     "output_type": "stream",
     "text": [
      "{'p', 'e', 'l'}\n",
      "{'p', 'a', 'e', 'b', 'l', 'n'}\n",
      "{'a'}\n",
      "{'p', 'b', 'e', 'l', 'n'}\n"
     ]
    }
   ],
   "source": [
    "s = set()\n",
    "s  = {'a','b','b','d'}\n",
    "x = set('apple')\n",
    "y = set('banana')\n",
    "\n",
    "print(x-y)\n",
    "print(x|y)\n",
    "print(x&y)\n",
    "print(x^y)"
   ]
  },
  {
   "cell_type": "code",
   "execution_count": 38,
   "id": "49603a2e",
   "metadata": {},
   "outputs": [
    {
     "name": "stdout",
     "output_type": "stream",
     "text": [
      "a 7878\n",
      "b 345\n",
      "c 456\n",
      "d 678\n"
     ]
    },
    {
     "data": {
      "text/plain": [
       "{'b': 345, 'c': 456, 'd': 678}"
      ]
     },
     "execution_count": 38,
     "metadata": {},
     "output_type": "execute_result"
    }
   ],
   "source": [
    "#dictionary and operations\n",
    "dct = {'a':123,\n",
    "     'b':345,\n",
    "     'c':456 }\n",
    "\n",
    "dct['d']= 678\n",
    "dct['a'] = 7878\n",
    "for i,j in dct.items():\n",
    "    print(i,j)\n",
    "del dct['a']\n",
    "dct"
   ]
  }
 ],
 "metadata": {
  "kernelspec": {
   "display_name": "Python 3 (ipykernel)",
   "language": "python",
   "name": "python3"
  },
  "language_info": {
   "codemirror_mode": {
    "name": "ipython",
    "version": 3
   },
   "file_extension": ".py",
   "mimetype": "text/x-python",
   "name": "python",
   "nbconvert_exporter": "python",
   "pygments_lexer": "ipython3",
   "version": "3.11.5"
  }
 },
 "nbformat": 4,
 "nbformat_minor": 5
}
